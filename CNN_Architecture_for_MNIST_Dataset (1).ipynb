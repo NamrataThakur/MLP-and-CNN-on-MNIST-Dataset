{
  "nbformat": 4,
  "nbformat_minor": 0,
  "metadata": {
    "colab": {
      "name": "CNN Architecture for MNIST Dataset.ipynb",
      "provenance": []
    },
    "kernelspec": {
      "name": "python3",
      "display_name": "Python 3"
    }
  },
  "cells": [
    {
      "cell_type": "code",
      "metadata": {
        "id": "j3IiHSm9FqnP",
        "colab_type": "code",
        "outputId": "ec46b742-04f0-4427-d6ac-a8da3fea2a80",
        "colab": {
          "base_uri": "https://localhost:8080/",
          "height": 153
        }
      },
      "source": [
        "#importing all libraries\n",
        "from keras.utils import np_utils\n",
        "from keras.datasets import mnist\n",
        "from keras.initializers import RandomNormal\n",
        "import seaborn as sns\n",
        "import matplotlib.pyplot as plt\n",
        "import numpy as np\n",
        "import time\n",
        "%matplotlib notebook\n",
        "%matplotlib inline\n",
        "from keras.models import Sequential\n",
        "from keras.layers import Dense,Activation,Flatten\n",
        "from keras.layers.normalization import BatchNormalization\n",
        "from keras.layers import Dropout\n",
        "from keras.layers import Conv2D, MaxPooling2D\n",
        "from keras.optimizers import Adam\n",
        "from keras import backend as K\n",
        "!pip -vvv install prettytable"
      ],
      "execution_count": 2,
      "outputs": [
        {
          "output_type": "stream",
          "text": [
            "Using TensorFlow backend.\n"
          ],
          "name": "stderr"
        },
        {
          "output_type": "stream",
          "text": [
            "Created temporary directory: /tmp/pip-ephem-wheel-cache-69ep_9kh\n",
            "Created temporary directory: /tmp/pip-req-tracker-385bcq00\n",
            "Created requirements tracker '/tmp/pip-req-tracker-385bcq00'\n",
            "Created temporary directory: /tmp/pip-install-1wyoxrc8\n",
            "Requirement already satisfied: prettytable in /usr/local/lib/python3.6/dist-packages (0.7.2)\n",
            "Cleaning up...\n",
            "Removed build tracker '/tmp/pip-req-tracker-385bcq00'\n"
          ],
          "name": "stdout"
        }
      ]
    },
    {
      "cell_type": "code",
      "metadata": {
        "id": "8qJNQ31dpNYO",
        "colab_type": "code",
        "colab": {
          "base_uri": "https://localhost:8080/",
          "height": 68
        },
        "outputId": "339a8ce6-30c4-4c6c-ced9-5a93aa1cdd07"
      },
      "source": [
        "nclasses = 10\n",
        "batch_size = 128\n",
        "n_epoch = 10\n",
        "\n",
        "#Dimensions\n",
        "img_rows = 28\n",
        "img_cols = 28\n",
        "\n",
        "#Splitting the data into train and test\n",
        "(X_Train,Y_Train), (X_Test,Y_Test) = mnist.load_data()\n",
        "\n",
        "# Formatting the input data\n",
        "\n",
        "if K.image_data_format() == \"channels_first\":\n",
        "    X_Train = X_Train.reshape(X_Train.shape[0],1,img_rows,img_cols)\n",
        "    X_Test = X_Test.reshape(X_Test.shape[0],1,img_rows,img_cols)\n",
        "    input_shape = (1,img_rows,img_cols)\n",
        "else:\n",
        "    X_Train = X_Train.reshape(X_Train.shape[0],img_rows,img_cols,1)\n",
        "    X_Test = X_Test.reshape(X_Test.shape[0],img_rows,img_cols,1)\n",
        "    input_shape = (img_rows,img_cols,1)\n",
        "\n",
        "X_Train = X_Train.astype('float32')\n",
        "X_Test = X_Test.astype('float32')\n",
        "X_Train /= 255\n",
        "X_Test /= 255\n",
        "print(\"Shape of Training samples : \" , X_Train.shape)\n",
        "\n",
        "# Formatting the target variables\n",
        "\n",
        "Y_Train = np_utils.to_categorical(Y_Train,num_classes=nclasses)\n",
        "Y_Test = np_utils.to_categorical(Y_Test,num_classes=nclasses)"
      ],
      "execution_count": 4,
      "outputs": [
        {
          "output_type": "stream",
          "text": [
            "Downloading data from https://s3.amazonaws.com/img-datasets/mnist.npz\n",
            "11493376/11490434 [==============================] - 1s 0us/step\n",
            "Shape of Training samples :  (60000, 28, 28, 1)\n"
          ],
          "name": "stdout"
        }
      ]
    },
    {
      "cell_type": "markdown",
      "metadata": {
        "id": "3MbbhGnk0wwL",
        "colab_type": "text"
      },
      "source": [
        "### Model 1 : Kernel Size = 3x3"
      ]
    },
    {
      "cell_type": "markdown",
      "metadata": {
        "id": "p7ZsG-F-Dpui",
        "colab_type": "text"
      },
      "source": [
        "#### 1.1 ) 3 layer structure with only BN"
      ]
    },
    {
      "cell_type": "code",
      "metadata": {
        "id": "mvqiDXZIpNoh",
        "colab_type": "code",
        "colab": {
          "base_uri": "https://localhost:8080/",
          "height": 425
        },
        "outputId": "17067ba5-b696-4afc-8274-12f7d4bfe9ff"
      },
      "source": [
        "cnnModel_1 = Sequential()\n",
        "cnnModel_1.add(Conv2D(64,kernel_size=(3,3),strides=(1,1),padding='same',activation='relu',kernel_initializer='he_normal',input_shape=input_shape))\n",
        "cnnModel_1.add(MaxPooling2D())\n",
        "cnnModel_1.add(Conv2D(64, (3,3), padding='same',activation='relu',kernel_initializer='he_normal'))\n",
        "cnnModel_1.add(MaxPooling2D())\n",
        "cnnModel_1.add(BatchNormalization())\n",
        "cnnModel_1.add(Conv2D(64, (3,3), padding='same', activation='relu', kernel_initializer='he_normal'))\n",
        "cnnModel_1.add(MaxPooling2D())\n",
        "cnnModel_1.add(BatchNormalization())\n",
        "cnnModel_1.add(Flatten())\n",
        "cnnModel_1.add(Dense(256,activation='relu', kernel_initializer='he_normal'))\n",
        "cnnModel_1.add(BatchNormalization())\n",
        "cnnModel_1.add(Dense(nclasses,activation='softmax'))\n",
        "\n",
        "cnnModel_1.compile(optimizer = 'adam', loss = 'categorical_crossentropy', metrics = ['accuracy'])\n",
        "history_cnnModel_1 = cnnModel_1.fit(X_Train, Y_Train, batch_size = batch_size , epochs = n_epoch, verbose = 1, validation_data = (X_Test,Y_Test) )\n",
        "score_cnnModel_1 = cnnModel_1.evaluate(X_Test,Y_Test,verbose=1)\n",
        "print(\"Accuracy : \", score_cnnModel_1[1])\n",
        "print(\"Loss : \", score_cnnModel_1[0])"
      ],
      "execution_count": 28,
      "outputs": [
        {
          "output_type": "stream",
          "text": [
            "Train on 60000 samples, validate on 10000 samples\n",
            "Epoch 1/10\n",
            "60000/60000 [==============================] - 155s 3ms/step - loss: 0.1056 - acc: 0.9670 - val_loss: 0.0512 - val_acc: 0.9837\n",
            "Epoch 2/10\n",
            "60000/60000 [==============================] - 151s 3ms/step - loss: 0.0333 - acc: 0.9896 - val_loss: 0.0414 - val_acc: 0.9877\n",
            "Epoch 3/10\n",
            "60000/60000 [==============================] - 152s 3ms/step - loss: 0.0229 - acc: 0.9930 - val_loss: 0.0458 - val_acc: 0.9844\n",
            "Epoch 4/10\n",
            "60000/60000 [==============================] - 153s 3ms/step - loss: 0.0176 - acc: 0.9943 - val_loss: 0.0321 - val_acc: 0.9897\n",
            "Epoch 5/10\n",
            "60000/60000 [==============================] - 152s 3ms/step - loss: 0.0126 - acc: 0.9959 - val_loss: 0.0274 - val_acc: 0.9920\n",
            "Epoch 6/10\n",
            "60000/60000 [==============================] - 152s 3ms/step - loss: 0.0101 - acc: 0.9969 - val_loss: 0.0359 - val_acc: 0.9896\n",
            "Epoch 7/10\n",
            "60000/60000 [==============================] - 151s 3ms/step - loss: 0.0073 - acc: 0.9975 - val_loss: 0.0434 - val_acc: 0.9880\n",
            "Epoch 8/10\n",
            "60000/60000 [==============================] - 150s 3ms/step - loss: 0.0087 - acc: 0.9970 - val_loss: 0.0408 - val_acc: 0.9896\n",
            "Epoch 9/10\n",
            "60000/60000 [==============================] - 151s 3ms/step - loss: 0.0083 - acc: 0.9972 - val_loss: 0.0300 - val_acc: 0.9920\n",
            "Epoch 10/10\n",
            "60000/60000 [==============================] - 151s 3ms/step - loss: 0.0068 - acc: 0.9979 - val_loss: 0.0545 - val_acc: 0.9858\n",
            "10000/10000 [==============================] - 7s 714us/step\n",
            "Accuracy :  0.9858\n",
            "Loss :  0.05452584567814665\n"
          ],
          "name": "stdout"
        }
      ]
    },
    {
      "cell_type": "code",
      "metadata": {
        "id": "EKTcDi0BpNsg",
        "colab_type": "code",
        "colab": {
          "base_uri": "https://localhost:8080/",
          "height": 34
        },
        "outputId": "9e9279e4-46a0-43bf-9237-9fb4ceb57b30"
      },
      "source": [
        "print(history_cnnModel_1.history.keys())"
      ],
      "execution_count": 18,
      "outputs": [
        {
          "output_type": "stream",
          "text": [
            "dict_keys(['val_loss', 'val_acc', 'loss', 'acc'])\n"
          ],
          "name": "stdout"
        }
      ]
    },
    {
      "cell_type": "code",
      "metadata": {
        "id": "_zOgPwtWpNwN",
        "colab_type": "code",
        "colab": {}
      },
      "source": [
        "# https://gist.github.com/greydanus/f6eee59eaf1d90fcb3b534a25362cea4\n",
        "# https://stackoverflow.com/a/14434334\n",
        "# this function is used to update the plots for each epoch and error\n",
        "def plt_dynamic(x , ty, vy, ax, colors=['b']):\n",
        "    ax.plot(x , ty , 'b' , label='Train Loss')\n",
        "    ax.plot(x , vy , 'g' , label='Validation Loss')\n",
        "    plt.legend()\n",
        "    plt.grid()\n",
        "    fig.canvas.draw()"
      ],
      "execution_count": 0,
      "outputs": []
    },
    {
      "cell_type": "code",
      "metadata": {
        "id": "_kFXW1fXpN0P",
        "colab_type": "code",
        "colab": {
          "base_uri": "https://localhost:8080/",
          "height": 283
        },
        "outputId": "14452f95-721d-45fa-fcd6-9c9d71f325e8"
      },
      "source": [
        "# Plotting the Loss Vs Epoch graph\n",
        "\n",
        "fig, ax = plt.subplots(1,1)\n",
        "x = list(range(1,n_epoch+1))\n",
        "vy = history_cnnModel_1.history['val_loss']\n",
        "ty = history_cnnModel_1.history['loss']\n",
        "ax.set_xlabel('epoch') ; ax.set_ylabel('Categorical Crossentropy Loss')\n",
        "plt_dynamic(x,ty,vy,ax)"
      ],
      "execution_count": 29,
      "outputs": [
        {
          "output_type": "display_data",
          "data": {
            "image/png": "[encoded data removed]",
            "text/plain": [
              "<Figure size 432x288 with 1 Axes>"
            ]
          },
          "metadata": {
            "tags": []
          }
        }
      ]
    },
    {
      "cell_type": "markdown",
      "metadata": {
        "id": "vAvAN32FD35e",
        "colab_type": "text"
      },
      "source": [
        "#### 1.2)  3 layer structure with only Dropout"
      ]
    },
    {
      "cell_type": "code",
      "metadata": {
        "id": "sdrzVeODpN4y",
        "colab_type": "code",
        "colab": {
          "base_uri": "https://localhost:8080/",
          "height": 496
        },
        "outputId": "e61e70aa-a788-4ec5-803d-5a36cc991634"
      },
      "source": [
        "cnnModel_2 = Sequential()\n",
        "cnnModel_2.add(Conv2D(10,kernel_size=(3,3),strides=(1,1),padding='same',activation='relu',kernel_initializer='he_normal',input_shape=input_shape))\n",
        "cnnModel_2.add(MaxPooling2D())\n",
        "cnnModel_2.add(Conv2D(10, (3,3), padding='same',activation='relu',kernel_initializer='he_normal'))\n",
        "cnnModel_2.add(MaxPooling2D())\n",
        "cnnModel_2.add(Dropout(0.5))\n",
        "cnnModel_2.add(Conv2D(10, (3,3), padding='same', activation='relu', kernel_initializer='he_normal'))\n",
        "cnnModel_2.add(MaxPooling2D())\n",
        "cnnModel_2.add(Dropout(0.5))\n",
        "cnnModel_2.add(Flatten())\n",
        "cnnModel_2.add(Dense(256,activation='relu', kernel_initializer='he_normal'))\n",
        "cnnModel_2.add(Dropout(0.5))\n",
        "cnnModel_2.add(Dense(nclasses,activation='softmax'))\n",
        "\n",
        "cnnModel_2.compile(optimizer = 'adam', loss = 'categorical_crossentropy', metrics = ['accuracy'])\n",
        "history_ccnnModel_2 = cnnModel_2.fit(X_Train, Y_Train, batch_size = batch_size , epochs = n_epoch, verbose = 1, validation_data = (X_Test,Y_Test) )\n",
        "score_cnnModel_2 = cnnModel_2.evaluate(X_Test,Y_Test,verbose=1)\n",
        "print(\"Accuracy : \", score_cnnModel_2[1])\n",
        "print(\"Loss : \", score_cnnModel_2[0])"
      ],
      "execution_count": 21,
      "outputs": [
        {
          "output_type": "stream",
          "text": [
            "WARNING:tensorflow:From /usr/local/lib/python3.6/dist-packages/keras/backend/tensorflow_backend.py:3733: calling dropout (from tensorflow.python.ops.nn_ops) with keep_prob is deprecated and will be removed in a future version.\n",
            "Instructions for updating:\n",
            "Please use `rate` instead of `keep_prob`. Rate should be set to `rate = 1 - keep_prob`.\n",
            "Train on 60000 samples, validate on 10000 samples\n",
            "Epoch 1/10\n",
            "60000/60000 [==============================] - 33s 551us/step - loss: 1.8926 - acc: 0.3484 - val_loss: 0.7546 - val_acc: 0.8264\n",
            "Epoch 2/10\n",
            "60000/60000 [==============================] - 33s 548us/step - loss: 0.9820 - acc: 0.6665 - val_loss: 0.3974 - val_acc: 0.9170\n",
            "Epoch 3/10\n",
            "60000/60000 [==============================] - 33s 547us/step - loss: 0.7397 - acc: 0.7540 - val_loss: 0.2888 - val_acc: 0.9393\n",
            "Epoch 4/10\n",
            "60000/60000 [==============================] - 33s 548us/step - loss: 0.6287 - acc: 0.7950 - val_loss: 0.2467 - val_acc: 0.9460\n",
            "Epoch 5/10\n",
            "60000/60000 [==============================] - 33s 543us/step - loss: 0.5557 - acc: 0.8201 - val_loss: 0.2022 - val_acc: 0.9509\n",
            "Epoch 6/10\n",
            "60000/60000 [==============================] - 33s 545us/step - loss: 0.5148 - acc: 0.8354 - val_loss: 0.1786 - val_acc: 0.9572\n",
            "Epoch 7/10\n",
            "60000/60000 [==============================] - 32s 536us/step - loss: 0.4776 - acc: 0.8466 - val_loss: 0.1659 - val_acc: 0.9595\n",
            "Epoch 8/10\n",
            "60000/60000 [==============================] - 33s 545us/step - loss: 0.4554 - acc: 0.8545 - val_loss: 0.1556 - val_acc: 0.9578\n",
            "Epoch 9/10\n",
            "60000/60000 [==============================] - 33s 545us/step - loss: 0.4368 - acc: 0.8611 - val_loss: 0.1539 - val_acc: 0.9601\n",
            "Epoch 10/10\n",
            "60000/60000 [==============================] - 33s 547us/step - loss: 0.4191 - acc: 0.8664 - val_loss: 0.1471 - val_acc: 0.9612\n",
            "10000/10000 [==============================] - 3s 254us/step\n",
            "Accuracy :  0.9612\n",
            "Loss :  0.1471116063207388\n"
          ],
          "name": "stdout"
        }
      ]
    },
    {
      "cell_type": "code",
      "metadata": {
        "id": "SXP0vbHmpN9j",
        "colab_type": "code",
        "colab": {
          "base_uri": "https://localhost:8080/",
          "height": 283
        },
        "outputId": "51cbbc66-da96-43ce-942f-be4bf5033601"
      },
      "source": [
        "# Plotting the Loss Vs Epoch graph\n",
        "\n",
        "fig, ax = plt.subplots(1,1)\n",
        "x = list(range(1,n_epoch+1))\n",
        "vy = history_ccnnModel_2.history['val_loss']\n",
        "ty = history_ccnnModel_2.history['loss']\n",
        "ax.set_xlabel('epoch') ; ax.set_ylabel('Categorical Crossentropy Loss')\n",
        "plt_dynamic(x,ty,vy,ax)"
      ],
      "execution_count": 23,
      "outputs": [
        {
          "output_type": "display_data",
          "data": {
            "image/png": "[encoded data removed]",
            "text/plain": [
              "<Figure size 432x288 with 1 Axes>"
            ]
          },
          "metadata": {
            "tags": []
          }
        }
      ]
    },
    {
      "cell_type": "markdown",
      "metadata": {
        "id": "Jpx68kUoEGhh",
        "colab_type": "text"
      },
      "source": [
        "#### 1.3) 3 layer structure with both BN and Dropout"
      ]
    },
    {
      "cell_type": "code",
      "metadata": {
        "id": "EcFTRN7MpOBi",
        "colab_type": "code",
        "colab": {
          "base_uri": "https://localhost:8080/",
          "height": 425
        },
        "outputId": "b5890d49-6f96-40ca-b1e6-a9480249525e"
      },
      "source": [
        "cnnModel_3 = Sequential()\n",
        "cnnModel_3.add(Conv2D(32,kernel_size=(3,3),strides=(1,1),padding='same',activation='relu',kernel_initializer='he_normal',input_shape=input_shape))\n",
        "cnnModel_3.add(MaxPooling2D())\n",
        "cnnModel_3.add(Conv2D(32, (3,3), padding='same',activation='relu',kernel_initializer='he_normal'))\n",
        "cnnModel_3.add(MaxPooling2D())\n",
        "cnnModel_3.add(BatchNormalization())\n",
        "cnnModel_3.add(Dropout(0.5))\n",
        "cnnModel_3.add(Conv2D(32, (3,3), padding='same', activation='relu', kernel_initializer='he_normal'))\n",
        "cnnModel_3.add(MaxPooling2D())\n",
        "cnnModel_3.add(BatchNormalization())\n",
        "cnnModel_3.add(Dropout(0.5))\n",
        "cnnModel_3.add(Flatten())\n",
        "cnnModel_3.add(Dense(256,activation='relu', kernel_initializer='he_normal'))\n",
        "cnnModel_3.add(BatchNormalization())\n",
        "cnnModel_3.add(Dropout(0.5))\n",
        "cnnModel_3.add(Dense(nclasses,activation='softmax'))\n",
        "\n",
        "cnnModel_3.compile(optimizer = 'adam', loss = 'categorical_crossentropy', metrics = ['accuracy'])\n",
        "history_cnnModel_3 = cnnModel_3.fit(X_Train, Y_Train, batch_size = batch_size , epochs = n_epoch, verbose = 1, validation_data = (X_Test,Y_Test) )\n",
        "score_cnnModel_3 = cnnModel_3.evaluate(X_Test,Y_Test,verbose=1)\n",
        "print(\"Accuracy : \", score_cnnModel_3[1])\n",
        "print(\"Loss : \", score_cnnModel_3[0])"
      ],
      "execution_count": 26,
      "outputs": [
        {
          "output_type": "stream",
          "text": [
            "Train on 60000 samples, validate on 10000 samples\n",
            "Epoch 1/10\n",
            "60000/60000 [==============================] - 71s 1ms/step - loss: 0.7113 - acc: 0.7776 - val_loss: 0.1162 - val_acc: 0.9602\n",
            "Epoch 2/10\n",
            "60000/60000 [==============================] - 69s 1ms/step - loss: 0.2367 - acc: 0.9248 - val_loss: 0.0774 - val_acc: 0.9720\n",
            "Epoch 3/10\n",
            "60000/60000 [==============================] - 70s 1ms/step - loss: 0.1767 - acc: 0.9442 - val_loss: 0.0580 - val_acc: 0.9804\n",
            "Epoch 4/10\n",
            "60000/60000 [==============================] - 69s 1ms/step - loss: 0.1450 - acc: 0.9561 - val_loss: 0.0463 - val_acc: 0.9844\n",
            "Epoch 5/10\n",
            "60000/60000 [==============================] - 69s 1ms/step - loss: 0.1238 - acc: 0.9615 - val_loss: 0.0481 - val_acc: 0.9831\n",
            "Epoch 6/10\n",
            "60000/60000 [==============================] - 68s 1ms/step - loss: 0.1143 - acc: 0.9647 - val_loss: 0.0352 - val_acc: 0.9874\n",
            "Epoch 7/10\n",
            "60000/60000 [==============================] - 69s 1ms/step - loss: 0.1012 - acc: 0.9676 - val_loss: 0.0345 - val_acc: 0.9882\n",
            "Epoch 8/10\n",
            "60000/60000 [==============================] - 69s 1ms/step - loss: 0.0979 - acc: 0.9694 - val_loss: 0.0297 - val_acc: 0.9902\n",
            "Epoch 9/10\n",
            "60000/60000 [==============================] - 69s 1ms/step - loss: 0.0917 - acc: 0.9714 - val_loss: 0.0315 - val_acc: 0.9888\n",
            "Epoch 10/10\n",
            "60000/60000 [==============================] - 68s 1ms/step - loss: 0.0829 - acc: 0.9744 - val_loss: 0.0307 - val_acc: 0.9901\n",
            "10000/10000 [==============================] - 4s 381us/step\n",
            "Accuracy :  0.9901\n",
            "Loss :  0.030658649612491717\n"
          ],
          "name": "stdout"
        }
      ]
    },
    {
      "cell_type": "code",
      "metadata": {
        "id": "cbuW76DjpOFX",
        "colab_type": "code",
        "colab": {
          "base_uri": "https://localhost:8080/",
          "height": 283
        },
        "outputId": "9f81f225-0b97-410d-a488-83c8ade14873"
      },
      "source": [
        "# Plotting the Loss Vs Epoch graph\n",
        "\n",
        "fig, ax = plt.subplots(1,1)\n",
        "x = list(range(1,n_epoch+1))\n",
        "vy = history_cnnModel_3.history['val_loss']\n",
        "ty = history_cnnModel_3.history['loss']\n",
        "ax.set_xlabel('epoch') ; ax.set_ylabel('Categorical Crossentropy Loss')\n",
        "plt_dynamic(x,ty,vy,ax)"
      ],
      "execution_count": 27,
      "outputs": [
        {
          "output_type": "display_data",
          "data": {
            "image/png": "[encoded data removed]",
            "text/plain": [
              "<Figure size 432x288 with 1 Axes>"
            ]
          },
          "metadata": {
            "tags": []
          }
        }
      ]
    },
    {
      "cell_type": "code",
      "metadata": {
        "id": "BIMsw9FdpOJP",
        "colab_type": "code",
        "colab": {
          "base_uri": "https://localhost:8080/",
          "height": 136
        },
        "outputId": "85733feb-ec92-423f-ec7c-ee0863b37803"
      },
      "source": [
        "from prettytable import PrettyTable\n",
        "x = PrettyTable()\n",
        "\n",
        "x.field_names = [\"Model Structure\",\"Accuracy\", \"Validation Loss\"]\n",
        "\n",
        "x.add_row([\"Model 1 with BN and 64 Kernels\", 0.9858, 0.0545])\n",
        "x.add_row([\"Model 2 with Dropout and 10 Kernels \", 0.9612, 0.1471])\n",
        "x.add_row([\"Model 3 With Dropout,BN and 32 Kernels \", 0.9901, 0.0306])\n",
        "print(x)"
      ],
      "execution_count": 11,
      "outputs": [
        {
          "output_type": "stream",
          "text": [
            "+-----------------------------------------+----------+-----------------+\n",
            "|             Model Structure             | Accuracy | Validation Loss |\n",
            "+-----------------------------------------+----------+-----------------+\n",
            "|      Model 1 with BN and 64 Kernels     |  0.9858  |      0.0545     |\n",
            "|   Model 2 with Dropout and 10 Kernels   |  0.9612  |      0.1471     |\n",
            "| Model 3 With Dropout,BN and 32 Kernels  |  0.9901  |      0.0306     |\n",
            "+-----------------------------------------+----------+-----------------+\n"
          ],
          "name": "stdout"
        }
      ]
    },
    {
      "cell_type": "markdown",
      "metadata": {
        "id": "9bP5V9g5XcTF",
        "colab_type": "text"
      },
      "source": [
        "### Model 2 : Kernel Size = 5x5"
      ]
    },
    {
      "cell_type": "code",
      "metadata": {
        "id": "WpUqb6MLXRGX",
        "colab_type": "code",
        "colab": {
          "base_uri": "https://localhost:8080/",
          "height": 425
        },
        "outputId": "11a46194-a326-40a8-9a5c-dfdf6c0bd281"
      },
      "source": [
        "cnnModel2_1 = Sequential()\n",
        "cnnModel2_1.add(Conv2D(32,kernel_size=(5,5),strides=(1,1),padding='valid',activation='relu',kernel_initializer='he_normal',input_shape=input_shape))\n",
        "cnnModel2_1.add(MaxPooling2D())\n",
        "cnnModel2_1.add(Conv2D(64, (5,5), padding='valid',activation='relu',kernel_initializer='he_normal'))\n",
        "cnnModel2_1.add(BatchNormalization())\n",
        "cnnModel2_1.add(Dropout(0.25))\n",
        "cnnModel2_1.add(Flatten())\n",
        "cnnModel2_1.add(Dense(256,activation='relu', kernel_initializer='he_normal'))\n",
        "cnnModel2_1.add(BatchNormalization())\n",
        "cnnModel2_1.add(Dropout(0.25))\n",
        "cnnModel2_1.add(Dense(nclasses,activation='softmax'))\n",
        "\n",
        "cnnModel2_1.compile(optimizer = 'adam', loss = 'categorical_crossentropy', metrics = ['accuracy'])\n",
        "history_cnnModel2_1 = cnnModel2_1.fit(X_Train, Y_Train, batch_size = batch_size , epochs = n_epoch, verbose = 1, validation_data = (X_Test,Y_Test) )\n",
        "score_cnnModel2_1 = cnnModel2_1.evaluate(X_Test,Y_Test,verbose=1)\n",
        "print(\"Accuracy : \", score_cnnModel2_1[1])\n",
        "print(\"Loss : \", score_cnnModel2_1[0])"
      ],
      "execution_count": 33,
      "outputs": [
        {
          "output_type": "stream",
          "text": [
            "Train on 60000 samples, validate on 10000 samples\n",
            "Epoch 1/10\n",
            "60000/60000 [==============================] - 91s 2ms/step - loss: 0.1209 - acc: 0.9627 - val_loss: 0.0438 - val_acc: 0.9856\n",
            "Epoch 2/10\n",
            "60000/60000 [==============================] - 89s 1ms/step - loss: 0.0427 - acc: 0.9870 - val_loss: 0.0294 - val_acc: 0.9905\n",
            "Epoch 3/10\n",
            "60000/60000 [==============================] - 88s 1ms/step - loss: 0.0276 - acc: 0.9911 - val_loss: 0.0343 - val_acc: 0.9885\n",
            "Epoch 4/10\n",
            "60000/60000 [==============================] - 88s 1ms/step - loss: 0.0233 - acc: 0.9924 - val_loss: 0.0261 - val_acc: 0.9914\n",
            "Epoch 5/10\n",
            "60000/60000 [==============================] - 88s 1ms/step - loss: 0.0163 - acc: 0.9951 - val_loss: 0.0381 - val_acc: 0.9874\n",
            "Epoch 6/10\n",
            "60000/60000 [==============================] - 88s 1ms/step - loss: 0.0157 - acc: 0.9950 - val_loss: 0.0295 - val_acc: 0.9910\n",
            "Epoch 7/10\n",
            "60000/60000 [==============================] - 87s 1ms/step - loss: 0.0136 - acc: 0.9956 - val_loss: 0.0314 - val_acc: 0.9891\n",
            "Epoch 8/10\n",
            "60000/60000 [==============================] - 86s 1ms/step - loss: 0.0113 - acc: 0.9963 - val_loss: 0.0269 - val_acc: 0.9913\n",
            "Epoch 9/10\n",
            "60000/60000 [==============================] - 86s 1ms/step - loss: 0.0092 - acc: 0.9970 - val_loss: 0.0409 - val_acc: 0.9888\n",
            "Epoch 10/10\n",
            "60000/60000 [==============================] - 87s 1ms/step - loss: 0.0097 - acc: 0.9968 - val_loss: 0.0284 - val_acc: 0.9913\n",
            "10000/10000 [==============================] - 5s 469us/step\n",
            "Accuracy :  0.9913\n",
            "Loss :  0.028396039543370354\n"
          ],
          "name": "stdout"
        }
      ]
    },
    {
      "cell_type": "code",
      "metadata": {
        "id": "ZpeoLv7_XRYt",
        "colab_type": "code",
        "colab": {
          "base_uri": "https://localhost:8080/",
          "height": 283
        },
        "outputId": "d8379b9e-4b54-4fc4-dbf8-e686c05353ae"
      },
      "source": [
        "# Plotting the Loss Vs Epoch graph\n",
        "\n",
        "fig, ax = plt.subplots(1,1)\n",
        "x = list(range(1,n_epoch+1))\n",
        "vy = history_cnnModel2_1.history['val_loss']\n",
        "ty = history_cnnModel2_1.history['loss']\n",
        "ax.set_xlabel('epoch') ; ax.set_ylabel('Categorical Crossentropy Loss')\n",
        "plt_dynamic(x,ty,vy,ax)"
      ],
      "execution_count": 35,
      "outputs": [
        {
          "output_type": "display_data",
          "data": {
            "image/png": "[encoded data removed]",
            "text/plain": [
              "<Figure size 432x288 with 1 Axes>"
            ]
          },
          "metadata": {
            "tags": []
          }
        }
      ]
    },
    {
      "cell_type": "code",
      "metadata": {
        "id": "9soQXnpAXu7F",
        "colab_type": "code",
        "colab": {
          "base_uri": "https://localhost:8080/",
          "height": 102
        },
        "outputId": "a8b29ceb-03bf-45cf-b17c-eebb15f71510"
      },
      "source": [
        "from prettytable import PrettyTable\n",
        "x = PrettyTable()\n",
        "\n",
        "x.field_names = [\"Accuracy\", \"Validation Loss\"]\n",
        "\n",
        "x.add_row([ 0.9913, 0.0283])\n",
        "\n",
        "print(x)"
      ],
      "execution_count": 38,
      "outputs": [
        {
          "output_type": "stream",
          "text": [
            "+----------+-----------------+\n",
            "| Accuracy | Validation Loss |\n",
            "+----------+-----------------+\n",
            "|  0.9913  |      0.0283     |\n",
            "+----------+-----------------+\n"
          ],
          "name": "stdout"
        }
      ]
    },
    {
      "cell_type": "markdown",
      "metadata": {
        "id": "1MBX3sVHflFV",
        "colab_type": "text"
      },
      "source": [
        "### Model 3 : Kernel Size : 7x7"
      ]
    },
    {
      "cell_type": "code",
      "metadata": {
        "id": "BfbPyE11XReq",
        "colab_type": "code",
        "colab": {
          "base_uri": "https://localhost:8080/",
          "height": 1125
        },
        "outputId": "f5184a4c-584d-495b-8a0b-1aebac63e051"
      },
      "source": [
        "cnnModel3_1 = Sequential()\n",
        "cnnModel3_1.add(Conv2D(32,kernel_size=(7,7),strides=(1,1),padding='valid',activation='relu',kernel_initializer='he_normal',input_shape=input_shape))\n",
        "cnnModel3_1.add(Conv2D(32, (7,7), padding='valid',activation='relu',kernel_initializer='he_normal'))\n",
        "cnnModel3_1.add(BatchNormalization())\n",
        "cnnModel3_1.add(Dropout(0.25))\n",
        "cnnModel3_1.add(Conv2D(64, (7,7), padding='same', activation='relu', kernel_initializer='he_normal'))\n",
        "cnnModel3_1.add(BatchNormalization())\n",
        "cnnModel3_1.add(Dropout(0.25))\n",
        "cnnModel3_1.add(Conv2D(64, (7,7), padding='same',activation='relu',kernel_initializer='he_normal'))\n",
        "cnnModel3_1.add(BatchNormalization())\n",
        "cnnModel3_1.add(Dropout(0.5))\n",
        "cnnModel3_1.add(MaxPooling2D())\n",
        "cnnModel3_1.add(Conv2D(32, (7,7), padding='same', activation='relu', kernel_initializer='he_normal'))\n",
        "cnnModel3_1.add(BatchNormalization())\n",
        "cnnModel3_1.add(Dropout(0.5))\n",
        "cnnModel3_1.add(Flatten())\n",
        "cnnModel3_1.add(Dense(512,activation='relu', kernel_initializer='he_normal'))\n",
        "cnnModel3_1.add(BatchNormalization())\n",
        "cnnModel3_1.add(Dropout(0.5))\n",
        "cnnModel3_1.add(Dense(nclasses,activation='softmax'))\n",
        "\n",
        "cnnModel3_1.compile(optimizer = 'adam', loss = 'categorical_crossentropy', metrics = ['accuracy'])\n",
        "history_cnnModel3_1 = cnnModel3_1.fit(X_Train, Y_Train, batch_size = batch_size , epochs = n_epoch, verbose = 1, validation_data = (X_Test,Y_Test) )\n",
        "score_cnnModel3_1 = cnnModel3_1.evaluate(X_Test,Y_Test,verbose=1)\n",
        "print(\"Accuracy : \", score_cnnModel3_1[1])\n",
        "print(\"Loss : \", score_cnnModel3_1[0])"
      ],
      "execution_count": 6,
      "outputs": [
        {
          "output_type": "stream",
          "text": [
            "WARNING:tensorflow:From /usr/local/lib/python3.6/dist-packages/keras/backend/tensorflow_backend.py:66: The name tf.get_default_graph is deprecated. Please use tf.compat.v1.get_default_graph instead.\n",
            "\n",
            "WARNING:tensorflow:From /usr/local/lib/python3.6/dist-packages/keras/backend/tensorflow_backend.py:541: The name tf.placeholder is deprecated. Please use tf.compat.v1.placeholder instead.\n",
            "\n",
            "WARNING:tensorflow:From /usr/local/lib/python3.6/dist-packages/keras/backend/tensorflow_backend.py:4479: The name tf.truncated_normal is deprecated. Please use tf.random.truncated_normal instead.\n",
            "\n",
            "WARNING:tensorflow:From /usr/local/lib/python3.6/dist-packages/keras/backend/tensorflow_backend.py:190: The name tf.get_default_session is deprecated. Please use tf.compat.v1.get_default_session instead.\n",
            "\n",
            "WARNING:tensorflow:From /usr/local/lib/python3.6/dist-packages/keras/backend/tensorflow_backend.py:197: The name tf.ConfigProto is deprecated. Please use tf.compat.v1.ConfigProto instead.\n",
            "\n",
            "WARNING:tensorflow:From /usr/local/lib/python3.6/dist-packages/keras/backend/tensorflow_backend.py:203: The name tf.Session is deprecated. Please use tf.compat.v1.Session instead.\n",
            "\n",
            "WARNING:tensorflow:From /usr/local/lib/python3.6/dist-packages/keras/backend/tensorflow_backend.py:207: The name tf.global_variables is deprecated. Please use tf.compat.v1.global_variables instead.\n",
            "\n",
            "WARNING:tensorflow:From /usr/local/lib/python3.6/dist-packages/keras/backend/tensorflow_backend.py:216: The name tf.is_variable_initialized is deprecated. Please use tf.compat.v1.is_variable_initialized instead.\n",
            "\n",
            "WARNING:tensorflow:From /usr/local/lib/python3.6/dist-packages/keras/backend/tensorflow_backend.py:223: The name tf.variables_initializer is deprecated. Please use tf.compat.v1.variables_initializer instead.\n",
            "\n",
            "WARNING:tensorflow:From /usr/local/lib/python3.6/dist-packages/keras/backend/tensorflow_backend.py:2041: The name tf.nn.fused_batch_norm is deprecated. Please use tf.compat.v1.nn.fused_batch_norm instead.\n",
            "\n",
            "WARNING:tensorflow:From /usr/local/lib/python3.6/dist-packages/keras/backend/tensorflow_backend.py:148: The name tf.placeholder_with_default is deprecated. Please use tf.compat.v1.placeholder_with_default instead.\n",
            "\n",
            "WARNING:tensorflow:From /usr/local/lib/python3.6/dist-packages/keras/backend/tensorflow_backend.py:3733: calling dropout (from tensorflow.python.ops.nn_ops) with keep_prob is deprecated and will be removed in a future version.\n",
            "Instructions for updating:\n",
            "Please use `rate` instead of `keep_prob`. Rate should be set to `rate = 1 - keep_prob`.\n",
            "WARNING:tensorflow:From /usr/local/lib/python3.6/dist-packages/keras/backend/tensorflow_backend.py:4267: The name tf.nn.max_pool is deprecated. Please use tf.nn.max_pool2d instead.\n",
            "\n",
            "WARNING:tensorflow:From /usr/local/lib/python3.6/dist-packages/keras/backend/tensorflow_backend.py:4432: The name tf.random_uniform is deprecated. Please use tf.random.uniform instead.\n",
            "\n",
            "WARNING:tensorflow:From /usr/local/lib/python3.6/dist-packages/keras/optimizers.py:793: The name tf.train.Optimizer is deprecated. Please use tf.compat.v1.train.Optimizer instead.\n",
            "\n",
            "WARNING:tensorflow:From /usr/local/lib/python3.6/dist-packages/keras/backend/tensorflow_backend.py:3576: The name tf.log is deprecated. Please use tf.math.log instead.\n",
            "\n",
            "WARNING:tensorflow:From /usr/local/lib/python3.6/dist-packages/tensorflow_core/python/ops/math_grad.py:1424: where (from tensorflow.python.ops.array_ops) is deprecated and will be removed in a future version.\n",
            "Instructions for updating:\n",
            "Use tf.where in 2.0, which has the same broadcast rule as np.where\n",
            "WARNING:tensorflow:From /usr/local/lib/python3.6/dist-packages/keras/backend/tensorflow_backend.py:1033: The name tf.assign_add is deprecated. Please use tf.compat.v1.assign_add instead.\n",
            "\n",
            "WARNING:tensorflow:From /usr/local/lib/python3.6/dist-packages/keras/backend/tensorflow_backend.py:1020: The name tf.assign is deprecated. Please use tf.compat.v1.assign instead.\n",
            "\n",
            "Train on 60000 samples, validate on 10000 samples\n",
            "Epoch 1/10\n",
            "60000/60000 [==============================] - 1223s 20ms/step - loss: 0.2323 - acc: 0.9314 - val_loss: 0.3182 - val_acc: 0.8852\n",
            "Epoch 2/10\n",
            "60000/60000 [==============================] - 1221s 20ms/step - loss: 0.0659 - acc: 0.9798 - val_loss: 0.1310 - val_acc: 0.9573\n",
            "Epoch 3/10\n",
            "60000/60000 [==============================] - 1218s 20ms/step - loss: 0.0467 - acc: 0.9862 - val_loss: 0.0648 - val_acc: 0.9796\n",
            "Epoch 4/10\n",
            "60000/60000 [==============================] - 1213s 20ms/step - loss: 0.0377 - acc: 0.9882 - val_loss: 0.0534 - val_acc: 0.9819\n",
            "Epoch 5/10\n",
            "60000/60000 [==============================] - 1226s 20ms/step - loss: 0.0336 - acc: 0.9897 - val_loss: 0.0325 - val_acc: 0.9899\n",
            "Epoch 6/10\n",
            "60000/60000 [==============================] - 1253s 21ms/step - loss: 0.0288 - acc: 0.9907 - val_loss: 0.0242 - val_acc: 0.9926\n",
            "Epoch 7/10\n",
            "60000/60000 [==============================] - 1213s 20ms/step - loss: 0.0271 - acc: 0.9915 - val_loss: 0.0463 - val_acc: 0.9864\n",
            "Epoch 8/10\n",
            "60000/60000 [==============================] - 1203s 20ms/step - loss: 0.0273 - acc: 0.9915 - val_loss: 0.0339 - val_acc: 0.9887\n",
            "Epoch 9/10\n",
            "60000/60000 [==============================] - 1216s 20ms/step - loss: 0.0236 - acc: 0.9926 - val_loss: 0.0238 - val_acc: 0.9926\n",
            "Epoch 10/10\n",
            "60000/60000 [==============================] - 1208s 20ms/step - loss: 0.0225 - acc: 0.9931 - val_loss: 0.0270 - val_acc: 0.9916\n",
            "10000/10000 [==============================] - 47s 5ms/step\n",
            "Accuracy :  0.9916\n",
            "Loss :  0.027008470072149068\n"
          ],
          "name": "stdout"
        }
      ]
    },
    {
      "cell_type": "code",
      "metadata": {
        "id": "Q_DHm1kVXRjk",
        "colab_type": "code",
        "colab": {
          "base_uri": "https://localhost:8080/",
          "height": 283
        },
        "outputId": "426f916a-fc5d-47e8-cdc5-cba220c59f11"
      },
      "source": [
        "# Plotting the Loss Vs Epoch graph\n",
        "\n",
        "fig, ax = plt.subplots(1,1)\n",
        "x = list(range(1,n_epoch+1))\n",
        "vy = history_cnnModel3_1.history['val_loss']\n",
        "ty = history_cnnModel3_1.history['loss']\n",
        "ax.set_xlabel('epoch') ; ax.set_ylabel('Categorical Crossentropy Loss')\n",
        "plt_dynamic(x,ty,vy,ax)"
      ],
      "execution_count": 9,
      "outputs": [
        {
          "output_type": "display_data",
          "data": {
            "image/png": "[encoded data removed]",
            "text/plain": [
              "<Figure size 432x288 with 1 Axes>"
            ]
          },
          "metadata": {
            "tags": []
          }
        }
      ]
    },
    {
      "cell_type": "code",
      "metadata": {
        "id": "frHTb1C5XRoF",
        "colab_type": "code",
        "colab": {
          "base_uri": "https://localhost:8080/",
          "height": 102
        },
        "outputId": "9d620920-2ad1-4300-97f5-da7d5ced2261"
      },
      "source": [
        "from prettytable import PrettyTable\n",
        "x = PrettyTable()\n",
        "\n",
        "x.field_names = [\"Accuracy\", \"Validation Loss\"]\n",
        "\n",
        "x.add_row([ 0.9917, 0.0270])\n",
        "\n",
        "print(x)"
      ],
      "execution_count": 10,
      "outputs": [
        {
          "output_type": "stream",
          "text": [
            "+----------+-----------------+\n",
            "| Accuracy | Validation Loss |\n",
            "+----------+-----------------+\n",
            "|  0.9917  |      0.027      |\n",
            "+----------+-----------------+\n"
          ],
          "name": "stdout"
        }
      ]
    },
    {
      "cell_type": "markdown",
      "metadata": {
        "id": "MDOngH9uYd4v",
        "colab_type": "text"
      },
      "source": [
        "### SUMMARY OF ALL THE MODELS :"
      ]
    },
    {
      "cell_type": "markdown",
      "metadata": {
        "id": "BbszAVUIYeMu",
        "colab_type": "text"
      },
      "source": [
        "### MODEL 1 : \n",
        "**A**) This model has 3 convulational layers with **64 kernels of size 3x3** in each of these. They also have **padding as 'same'** so that the size of output is same as that of the input. Every convulational layer is followed by a **maxpool layer** with default **kernel size of 2x2**. We get a maximum validational **accuracy of 98.58%** with **loss of 0.054**. This model has only **BatchNormalization** performed on it.\n",
        "\n",
        "**B**) This model has 3 convulational layers with **10 kernels of size 3x3** in each of these. They also have **padding as 'same'** so that the size of output is same as that of the input. Every convulational layer is followed by a maxpool layer with default kernel size of 2x2. We get a maximum validational **accuracy of 96.12%** with **loss of 0.147**. This model has only **Dropout** performed on it with dropout **rate of 0.5**.\n",
        "\n",
        "**C**) This model has 3 convulational layers with **32 kernels of size 3x3** in each of these. They also have **padding as 'same'** so that the size of output is same as that of the input. Every convulational layer is followed by a maxpool layer with default kernel size of 2x2. We get a maximum validational **accuracy of 99.01%** with **loss of 0.030**. This model has **both** BatchNormalization and Dropout performed on it with dropout rate of 0.5.\n",
        "\n",
        "\n",
        "### MODEL 2 : \n",
        "This model has **2** convulational layer with **padding as 'valid'** in both of them. Because of this type of padding the ouput is of size (n-k+1)x(n-k+1). The **first layer** has **32 kernels of size 5x5**. The **second layer** has **64 kernels of size 5x5**. The first layer is also followed by a **Maxpool layer of kernel size 2x2**. Therefore the **output at the end of first layer is of size 12x12x32**. The **output at the end of the second layer is of size 8x8x64**. This is then passed through Flatten and Dense layer having **256 relu activations** to give a validational **accuracy of 99.13% and loss of 0.0283**. We are performing **both** BN and Dropout (rate = 0.25).\n",
        "\n",
        "### MODEL 3 :\n",
        "This model has 5 convulational layers as follows: \n",
        "\n",
        "**L1** : It has **32** kernels of **size 7x7** and **padding as 'valid'**. The **output size is 22x22x32**.\n",
        "\n",
        "**L2** : It has **32** kernels of size **7x7** and padding as **'valid'**. The ouput size is **15x15x32**.\n",
        "\n",
        "**L3** : It has **64** kernels of size **7x7** and padding as **'same'**. The ouput size is **15x15x64**.\n",
        "\n",
        "**L4** : It has **64** kernels of size **7x7** and padding as **'same'**. The ouput size is **15x15x64**.\n",
        "\n",
        "**After layer 4** we have a **Maxpool** layer of kernel size **2x2**. The ouput size is **7x7x64**.\n",
        "\n",
        "**L5** : It has **32** kernels of size **7x7** and padding as **'same'**. The ouput size is **7x7x32**.\n",
        "\n",
        "This is then passed through Flatten and Dense layer having **512 relu activations** to give a validational **accuracy of 99.17% and loss of 0.027**. We are performing **both** BN and Dropout (rate = 0.25 at some layer and rate = 0.5 at the rest of the layers).\n",
        "\n",
        "\n"
      ]
    }
  ]
}